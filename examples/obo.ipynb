{
 "cells": [
  {
   "cell_type": "code",
   "execution_count": 1,
   "metadata": {
    "collapsed": false
   },
   "outputs": [],
   "source": [
    "import importlib\n",
    "import urllib\n",
    "\n",
    "import pandas\n",
    "import io\n",
    "import networkx\n",
    "\n",
    "import obo"
   ]
  },
  {
   "cell_type": "code",
   "execution_count": null,
   "metadata": {
    "collapsed": false
   },
   "outputs": [],
   "source": []
  },
  {
   "cell_type": "code",
   "execution_count": 3,
   "metadata": {
    "collapsed": false
   },
   "outputs": [
    {
     "data": {
      "text/plain": [
       "<module 'obo' from '/usr/local/lib/python3.4/dist-packages/obo/__init__.py'>"
      ]
     },
     "execution_count": 3,
     "metadata": {},
     "output_type": "execute_result"
    }
   ],
   "source": [
    "importlib.reload(obo)\n",
    "#import inspect\n",
    "#inspect.getsource(obo.read_obo)"
   ]
  },
  {
   "cell_type": "code",
   "execution_count": 4,
   "metadata": {
    "collapsed": false
   },
   "outputs": [],
   "source": [
    "# read Disease Ontology from file\n",
    "path = '/home/dhimmels/Documents/serg/rephetio/construct/disease-ontology/download/HumanDO.obo'\n",
    "with open(path) as obofile:\n",
    "    graph = obo.read_obo(obofile)"
   ]
  },
  {
   "cell_type": "code",
   "execution_count": 4,
   "metadata": {
    "collapsed": false
   },
   "outputs": [],
   "source": [
    "# read Disease Ontology from url\n",
    "url = 'https://sourceforge.net/p/diseaseontology/code/HEAD/tree/trunk/HumanDO.obo?format=raw'\n",
    "with urllib.request.urlopen(url) as obofile:\n",
    "    obolines = (line.decode('utf-8') for line in obofile)\n",
    "    graph = obo.read_obo(obolines)"
   ]
  },
  {
   "cell_type": "code",
   "execution_count": 13,
   "metadata": {
    "collapsed": false
   },
   "outputs": [
    {
     "data": {
      "text/plain": [
       "[('DOID:2377', 'DOID:3213', 'is_a')]"
      ]
     },
     "execution_count": 13,
     "metadata": {},
     "output_type": "execute_result"
    }
   ],
   "source": [
    "# Look up node attributes\n",
    "graph.node['DOID:2377'] # multiple sclerosis\n",
    "\n",
    "# Look up node attributes\n",
    "graph.edges('DOID:2377', keys=True)"
   ]
  },
  {
   "cell_type": "code",
   "execution_count": 7,
   "metadata": {
    "collapsed": false
   },
   "outputs": [
    {
     "data": {
      "text/html": [
       "<div style=\"max-height:1000px;max-width:1500px;overflow:auto;\">\n",
       "<table border=\"1\" class=\"dataframe\">\n",
       "  <thead>\n",
       "    <tr style=\"text-align: right;\">\n",
       "      <th></th>\n",
       "      <th>name</th>\n",
       "    </tr>\n",
       "  </thead>\n",
       "  <tbody>\n",
       "    <tr>\n",
       "      <th>DOID:7676</th>\n",
       "      <td>testicular thecoma</td>\n",
       "    </tr>\n",
       "    <tr>\n",
       "      <th>DOID:3827</th>\n",
       "      <td>congenital diaphragmatic hernia</td>\n",
       "    </tr>\n",
       "    <tr>\n",
       "      <th>DOID:0060286</th>\n",
       "      <td>combined oxidative phosphorylation deficiency</td>\n",
       "    </tr>\n",
       "    <tr>\n",
       "      <th>DOID:13270</th>\n",
       "      <td>erythropoietic protoporphyria</td>\n",
       "    </tr>\n",
       "    <tr>\n",
       "      <th>DOID:9744</th>\n",
       "      <td>type 1 diabetes mellitus</td>\n",
       "    </tr>\n",
       "  </tbody>\n",
       "</table>\n",
       "</div>"
      ],
      "text/plain": [
       "                                                       name\n",
       "DOID:7676                                testicular thecoma\n",
       "DOID:3827                   congenital diaphragmatic hernia\n",
       "DOID:0060286  combined oxidative phosphorylation deficiency\n",
       "DOID:13270                    erythropoietic protoporphyria\n",
       "DOID:9744                          type 1 diabetes mellitus"
      ]
     },
     "execution_count": 7,
     "metadata": {},
     "output_type": "execute_result"
    }
   ],
   "source": [
    "# Create a dataframe of nodes (terms)\n",
    "df = pandas.DataFrame.from_records(\n",
    "    list(graph.node.values()),\n",
    "    index=list(graph.node.keys()))\n",
    "df[['name']].head()"
   ]
  },
  {
   "cell_type": "code",
   "execution_count": 7,
   "metadata": {
    "collapsed": false
   },
   "outputs": [
    {
     "data": {
      "text/plain": [
       "{'auto-generated-by': 'OBO-Edit 2.3.1',\n",
       " 'date': '14:05:2015 16:40',\n",
       " 'default-namespace': ['disease_ontology'],\n",
       " 'format-version': '1.2',\n",
       " 'instances': [],\n",
       " 'name': 'doid',\n",
       " 'ontology': 'doid',\n",
       " 'remark': ['This work is licensed under a Creative Commons Attribution 3.0 Unported License http://creativecommons.org/licenses/by/3.0/.'],\n",
       " 'saved-by': 'emitraka',\n",
       " 'subsetdef': ['DO_cancer_slim \"DO cancer slim\"',\n",
       "  'DO_MGI_slim \"DO_MGI_slim\"',\n",
       "  'GOLD \"GOLD\"',\n",
       "  'gram-negative_bacterial_infectious_disease \"gram-negative bacterial infectious disease\"',\n",
       "  'gram-positive_bacterial_infectious_disease \"gram-positive bacterial infectious disease\"',\n",
       "  'NCIthesaurus \"NCIt\"',\n",
       "  'sexually_transmitted_infectious_disease \"sexually transmitted infectious disease\"',\n",
       "  'tick-borne_infectious_disease \"tick-borne infectious disease\"',\n",
       "  'TopNodes_DOcancerslim \"TopNodes_DOcancerslim\"',\n",
       "  'zoonotic_infectious_disease \"zoonotic infectious disease\"'],\n",
       " 'typedefs': [{'id': 'complicated_by', 'name': 'complicated_by'},\n",
       "  {'def': '\"Component parts of anatomy of tissue made up of certain cells or other body area/system or tissue types.\" [DO:lh]',\n",
       "   'id': 'composed_of',\n",
       "   'name': 'composed_of'},\n",
       "  {'def': '\"Type of tissue or cell/the source of the material.\" [DO:lh]',\n",
       "   'id': 'derives_from',\n",
       "   'name': 'derives_from'},\n",
       "  {'id': 'has_material_basis_in', 'name': 'has_material_basis_in'},\n",
       "  {'id': 'has_symptom', 'name': 'has_symptom'},\n",
       "  {'id': 'inheres_in', 'name': 'inheres_in'},\n",
       "  {'id': 'is_a', 'name': 'is_a'},\n",
       "  {'def': '\"Anatomical location.\" [DO:lh]',\n",
       "   'id': 'located_in',\n",
       "   'name': 'located_in'},\n",
       "  {'id': 'occurs_with', 'name': 'occurs_with'},\n",
       "  {'id': 'part_of', 'name': 'part_of'},\n",
       "  {'id': 'realized_by', 'name': 'realized_by'},\n",
       "  {'id': 'realized_by_supression_with', 'name': 'realized_by_supression_with'},\n",
       "  {'def': '\"Development process/cause and effect/disease progress,process.\" [DO:lh]',\n",
       "   'id': 'results_in',\n",
       "   'name': 'results_in'},\n",
       "  {'def': '\"Formation of structure,cancer,etc./cause and effect.\" [DO:lh]',\n",
       "   'id': 'results_in_formation_of',\n",
       "   'name': 'results_in_formation_of'},\n",
       "  {'def': '\"Pathogen is transmitted.\" [DO:lh]',\n",
       "   'id': 'transmitted_by',\n",
       "   'name': 'transmitted_by'}]}"
      ]
     },
     "execution_count": 7,
     "metadata": {},
     "output_type": "execute_result"
    }
   ],
   "source": [
    "# See the ontology metadata\n",
    "graph.graph"
   ]
  },
  {
   "cell_type": "code",
   "execution_count": 8,
   "metadata": {
    "collapsed": false
   },
   "outputs": [
    {
     "data": {
      "text/plain": [
       "13080"
      ]
     },
     "execution_count": 8,
     "metadata": {},
     "output_type": "execute_result"
    }
   ],
   "source": [
    "# read Disease Ontology from url\n",
    "url = 'http://berkeleybop.org/ontologies/uberon/basic.obo'\n",
    "with urllib.request.urlopen(url) as obofile:\n",
    "    obolines = (line.decode('utf-8') for line in obofile)\n",
    "    uberon = obo.read_obo(obolines)\n",
    "len(uberon)"
   ]
  },
  {
   "cell_type": "code",
   "execution_count": 14,
   "metadata": {
    "collapsed": false
   },
   "outputs": [
    {
     "data": {
      "text/html": [
       "<div style=\"max-height:1000px;max-width:1500px;overflow:auto;\">\n",
       "<table border=\"1\" class=\"dataframe\">\n",
       "  <thead>\n",
       "    <tr style=\"text-align: right;\">\n",
       "      <th></th>\n",
       "      <th>name</th>\n",
       "    </tr>\n",
       "  </thead>\n",
       "  <tbody>\n",
       "    <tr>\n",
       "      <th>UBERON:2001999</th>\n",
       "      <td>posterior cleithral process</td>\n",
       "    </tr>\n",
       "    <tr>\n",
       "      <th>UBERON:4400001</th>\n",
       "      <td>ceratotrichium</td>\n",
       "    </tr>\n",
       "    <tr>\n",
       "      <th>UBERON:0002089</th>\n",
       "      <td>thoracodorsal vein</td>\n",
       "    </tr>\n",
       "    <tr>\n",
       "      <th>UBERON:0004160</th>\n",
       "      <td>proepicardium</td>\n",
       "    </tr>\n",
       "    <tr>\n",
       "      <th>UBERON:0001503</th>\n",
       "      <td>dorsal interosseous of manus</td>\n",
       "    </tr>\n",
       "  </tbody>\n",
       "</table>\n",
       "</div>"
      ],
      "text/plain": [
       "                                        name\n",
       "UBERON:2001999   posterior cleithral process\n",
       "UBERON:4400001                ceratotrichium\n",
       "UBERON:0002089            thoracodorsal vein\n",
       "UBERON:0004160                 proepicardium\n",
       "UBERON:0001503  dorsal interosseous of manus"
      ]
     },
     "execution_count": 14,
     "metadata": {},
     "output_type": "execute_result"
    }
   ],
   "source": [
    "uberon_df = pandas.DataFrame.from_records(\n",
    "    list(uberon.node.values()),\n",
    "    index=list(uberon.node.keys()))\n",
    "uberon_df[['name']].head()"
   ]
  },
  {
   "cell_type": "code",
   "execution_count": null,
   "metadata": {
    "collapsed": true
   },
   "outputs": [],
   "source": []
  }
 ],
 "metadata": {
  "kernelspec": {
   "display_name": "Python 3",
   "language": "python",
   "name": "python3"
  },
  "language_info": {
   "codemirror_mode": {
    "name": "ipython",
    "version": 3
   },
   "file_extension": ".py",
   "mimetype": "text/x-python",
   "name": "python",
   "nbconvert_exporter": "python",
   "pygments_lexer": "ipython3",
   "version": "3.4.0"
  }
 },
 "nbformat": 4,
 "nbformat_minor": 0
}
