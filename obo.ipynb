{
 "cells": [
  {
   "cell_type": "code",
   "execution_count": 1,
   "metadata": {
    "collapsed": false
   },
   "outputs": [],
   "source": [
    "import importlib\n",
    "import urllib\n",
    "\n",
    "import pandas\n",
    "import io\n",
    "\n",
    "import obo"
   ]
  },
  {
   "cell_type": "code",
   "execution_count": null,
   "metadata": {
    "collapsed": false
   },
   "outputs": [],
   "source": []
  },
  {
   "cell_type": "code",
   "execution_count": 2,
   "metadata": {
    "collapsed": false
   },
   "outputs": [
    {
     "data": {
      "text/plain": [
       "<module 'obo' from '/home/dhimmels/Documents/serg/rephetio/construct/obo/obo.py'>"
      ]
     },
     "execution_count": 2,
     "metadata": {},
     "output_type": "execute_result"
    }
   ],
   "source": [
    "importlib.reload(obo)"
   ]
  },
  {
   "cell_type": "code",
   "execution_count": 3,
   "metadata": {
    "collapsed": false
   },
   "outputs": [],
   "source": [
    "# read Disease Ontology from file\n",
    "path = '/home/dhimmels/Documents/serg/rephetio/construct/disease-ontology/download/HumanDO.obo'\n",
    "with open(path) as obofile:\n",
    "    graph = obo.read_obo(obofile)"
   ]
  },
  {
   "cell_type": "code",
   "execution_count": 4,
   "metadata": {
    "collapsed": false
   },
   "outputs": [],
   "source": [
    "# read Disease Ontology from url\n",
    "url = 'https://sourceforge.net/p/diseaseontology/code/HEAD/tree/trunk/HumanDO.obo?format=raw'\n",
    "with urllib.request.urlopen(url) as obofile:\n",
    "    obolines =  (line.decode('utf-8') for line in obofile)\n",
    "    graph = obo.read_obo(obolines)"
   ]
  },
  {
   "cell_type": "code",
   "execution_count": 5,
   "metadata": {
    "collapsed": false
   },
   "outputs": [
    {
     "data": {
      "text/plain": [
       "{'comment': 'OMIM mapping confirmed by DO. [LS].',\n",
       " 'def': '\"A demyelinating disease that involves damage to the fatty myelin sheaths around the axons of the brain and spinal cord resulting in demyelination and scarring.\" [url:http\\\\://en.wikipedia.org/wiki/Multiple_sclerosis]',\n",
       " 'name': 'multiple sclerosis',\n",
       " 'synonym': ['\"Generalized multiple sclerosis (disorder)\" EXACT [SNOMEDCT_2005_07_31:192928003]',\n",
       "  '\"insular sclerosis\" EXACT [CSP2005:2042-2324]'],\n",
       " 'xref': ['EFO:0003885',\n",
       "  'ICD9CM:340',\n",
       "  'MSH:D009103',\n",
       "  'NCI:C3243',\n",
       "  'OMIM:126200',\n",
       "  'OMIM:612594',\n",
       "  'OMIM:612595',\n",
       "  'OMIM:612596',\n",
       "  'OMIM:614810',\n",
       "  'SNOMEDCT_2010_1_31:155023009',\n",
       "  'SNOMEDCT_2010_1_31:192928003',\n",
       "  'SNOMEDCT_2010_1_31:192930001',\n",
       "  'SNOMEDCT_2010_1_31:24700007',\n",
       "  'UMLS_CUI:C0026769']}"
      ]
     },
     "execution_count": 5,
     "metadata": {},
     "output_type": "execute_result"
    }
   ],
   "source": [
    "graph.node['DOID:2377'] # multiple sclerosis"
   ]
  },
  {
   "cell_type": "code",
   "execution_count": 6,
   "metadata": {
    "collapsed": false
   },
   "outputs": [
    {
     "data": {
      "text/html": [
       "<div style=\"max-height:1000px;max-width:1500px;overflow:auto;\">\n",
       "<table border=\"1\" class=\"dataframe\">\n",
       "  <thead>\n",
       "    <tr style=\"text-align: right;\">\n",
       "      <th></th>\n",
       "      <th>name</th>\n",
       "    </tr>\n",
       "  </thead>\n",
       "  <tbody>\n",
       "    <tr>\n",
       "      <th>DOID:5340</th>\n",
       "      <td>anterograde amnesia</td>\n",
       "    </tr>\n",
       "    <tr>\n",
       "      <th>DOID:2513</th>\n",
       "      <td>basal cell carcinoma</td>\n",
       "    </tr>\n",
       "    <tr>\n",
       "      <th>DOID:1579</th>\n",
       "      <td>respiratory system disease</td>\n",
       "    </tr>\n",
       "    <tr>\n",
       "      <th>DOID:1483</th>\n",
       "      <td>gingival disease</td>\n",
       "    </tr>\n",
       "    <tr>\n",
       "      <th>DOID:10321</th>\n",
       "      <td>baritosis</td>\n",
       "    </tr>\n",
       "  </tbody>\n",
       "</table>\n",
       "</div>"
      ],
      "text/plain": [
       "                                  name\n",
       "DOID:5340          anterograde amnesia\n",
       "DOID:2513         basal cell carcinoma\n",
       "DOID:1579   respiratory system disease\n",
       "DOID:1483             gingival disease\n",
       "DOID:10321                   baritosis"
      ]
     },
     "execution_count": 6,
     "metadata": {},
     "output_type": "execute_result"
    }
   ],
   "source": [
    "# Create a dataframe of nodes (terms)\n",
    "df = pandas.DataFrame.from_records(\n",
    "    list(graph.node.values()),\n",
    "    index=list(graph.node.keys()))\n",
    "df[['name']].head()"
   ]
  },
  {
   "cell_type": "code",
   "execution_count": 7,
   "metadata": {
    "collapsed": false
   },
   "outputs": [
    {
     "data": {
      "text/plain": [
       "{'auto-generated-by': 'OBO-Edit 2.3.1',\n",
       " 'date': '14:05:2015 16:40',\n",
       " 'default-namespace': ['disease_ontology'],\n",
       " 'format-version': '1.2',\n",
       " 'instances': [],\n",
       " 'name': 'doid',\n",
       " 'ontology': 'doid',\n",
       " 'remark': ['This work is licensed under a Creative Commons Attribution 3.0 Unported License http://creativecommons.org/licenses/by/3.0/.'],\n",
       " 'saved-by': 'emitraka',\n",
       " 'subsetdef': ['DO_cancer_slim \"DO cancer slim\"',\n",
       "  'DO_MGI_slim \"DO_MGI_slim\"',\n",
       "  'GOLD \"GOLD\"',\n",
       "  'gram-negative_bacterial_infectious_disease \"gram-negative bacterial infectious disease\"',\n",
       "  'gram-positive_bacterial_infectious_disease \"gram-positive bacterial infectious disease\"',\n",
       "  'NCIthesaurus \"NCIt\"',\n",
       "  'sexually_transmitted_infectious_disease \"sexually transmitted infectious disease\"',\n",
       "  'tick-borne_infectious_disease \"tick-borne infectious disease\"',\n",
       "  'TopNodes_DOcancerslim \"TopNodes_DOcancerslim\"',\n",
       "  'zoonotic_infectious_disease \"zoonotic infectious disease\"'],\n",
       " 'typedefs': [{'id': 'complicated_by', 'name': 'complicated_by'},\n",
       "  {'def': '\"Component parts of anatomy of tissue made up of certain cells or other body area/system or tissue types.\" [DO:lh]',\n",
       "   'id': 'composed_of',\n",
       "   'name': 'composed_of'},\n",
       "  {'def': '\"Type of tissue or cell/the source of the material.\" [DO:lh]',\n",
       "   'id': 'derives_from',\n",
       "   'name': 'derives_from'},\n",
       "  {'id': 'has_material_basis_in', 'name': 'has_material_basis_in'},\n",
       "  {'id': 'has_symptom', 'name': 'has_symptom'},\n",
       "  {'id': 'inheres_in', 'name': 'inheres_in'},\n",
       "  {'id': 'is_a', 'name': 'is_a'},\n",
       "  {'def': '\"Anatomical location.\" [DO:lh]',\n",
       "   'id': 'located_in',\n",
       "   'name': 'located_in'},\n",
       "  {'id': 'occurs_with', 'name': 'occurs_with'},\n",
       "  {'id': 'part_of', 'name': 'part_of'},\n",
       "  {'id': 'realized_by', 'name': 'realized_by'},\n",
       "  {'id': 'realized_by_supression_with', 'name': 'realized_by_supression_with'},\n",
       "  {'def': '\"Development process/cause and effect/disease progress,process.\" [DO:lh]',\n",
       "   'id': 'results_in',\n",
       "   'name': 'results_in'},\n",
       "  {'def': '\"Formation of structure,cancer,etc./cause and effect.\" [DO:lh]',\n",
       "   'id': 'results_in_formation_of',\n",
       "   'name': 'results_in_formation_of'},\n",
       "  {'def': '\"Pathogen is transmitted.\" [DO:lh]',\n",
       "   'id': 'transmitted_by',\n",
       "   'name': 'transmitted_by'}]}"
      ]
     },
     "execution_count": 7,
     "metadata": {},
     "output_type": "execute_result"
    }
   ],
   "source": [
    "# See the ontology metadata\n",
    "graph.graph"
   ]
  },
  {
   "cell_type": "code",
   "execution_count": null,
   "metadata": {
    "collapsed": true
   },
   "outputs": [],
   "source": []
  }
 ],
 "metadata": {
  "kernelspec": {
   "display_name": "Python 3",
   "language": "python",
   "name": "python3"
  },
  "language_info": {
   "codemirror_mode": {
    "name": "ipython",
    "version": 3
   },
   "file_extension": ".py",
   "mimetype": "text/x-python",
   "name": "python",
   "nbconvert_exporter": "python",
   "pygments_lexer": "ipython3",
   "version": "3.4.0"
  }
 },
 "nbformat": 4,
 "nbformat_minor": 0
}
